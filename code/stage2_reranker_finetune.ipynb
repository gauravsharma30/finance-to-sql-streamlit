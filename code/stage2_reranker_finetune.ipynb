{
 "cells": [
  {
   "cell_type": "code",
   "execution_count": 1,
   "id": "b489a65a",
   "metadata": {},
   "outputs": [
    {
     "name": "stderr",
     "output_type": "stream",
     "text": [
      "/opt/miniconda3/envs/crossencoder/lib/python3.10/site-packages/tqdm/auto.py:21: TqdmWarning: IProgress not found. Please update jupyter and ipywidgets. See https://ipywidgets.readthedocs.io/en/stable/user_install.html\n",
      "  from .autonotebook import tqdm as notebook_tqdm\n"
     ]
    }
   ],
   "source": [
    "from sentence_transformers import CrossEncoder, InputExample\n",
    "from torch.utils.data import DataLoader\n",
    "import pandas as pd\n",
    "import torch\n",
    "\n",
    "# 1. Load your data\n",
    "df = pd.read_csv(\"../data/3b_stage2_reranker_training_data_hard_negatives.csv\")"
   ]
  },
  {
   "cell_type": "code",
   "execution_count": 2,
   "id": "0f54b449",
   "metadata": {},
   "outputs": [],
   "source": [
    "# 2. Convert to sentence-transformers InputExample format\n",
    "train_samples = [\n",
    "    InputExample(texts=[row['query'], row['label']], label=float(row['score']))\n",
    "    for _, row in df.iterrows()\n",
    "]"
   ]
  },
  {
   "cell_type": "code",
   "execution_count": 5,
   "id": "0291fb02",
   "metadata": {},
   "outputs": [],
   "source": [
    "# 3. Initialize CrossEncoder model\n",
    "model = CrossEncoder(\"cross-encoder/ms-marco-MiniLM-L-6-v2\", num_labels=1)\n",
    "\n",
    "# Tried to train this, but doesn't fit on my system\n",
    "#model = CrossEncoder(\"BAAI/bge-reranker-large\", num_labels=1)\n",
    "\n"
   ]
  },
  {
   "cell_type": "code",
   "execution_count": 6,
   "id": "ea23b3a8",
   "metadata": {},
   "outputs": [
    {
     "name": "stdout",
     "output_type": "stream",
     "text": [
      "{'train_runtime': 17.6834, 'train_samples_per_second': 36.475, 'train_steps_per_second': 4.807, 'train_loss': 0.6831217148724724, 'epoch': 5.0}\n"
     ]
    }
   ],
   "source": [
    "# 4. Define callback to print loss every step\n",
    "def print_loss(score, step):\n",
    "    print(f\"Step {step} - Loss: {score:.4f}\")\n",
    "\n",
    "# 5. Train the model (fit handles batching, loss, optimizer, etc.)\n",
    "model.fit(\n",
    "    train_dataloader=DataLoader(train_samples, shuffle=True, batch_size=8),\n",
    "    epochs=5,\n",
    "    warmup_steps=100,\n",
    "    show_progress_bar=False,\n",
    "    callback=print_loss\n",
    ")"
   ]
  },
  {
   "cell_type": "code",
   "execution_count": 7,
   "id": "ea6ae384",
   "metadata": {},
   "outputs": [],
   "source": [
    "model.save('../models/stage2_cross_encoder_finetuned_MiniLM_hardnegative_v2')"
   ]
  },
  {
   "cell_type": "code",
   "execution_count": null,
   "id": "ddfbce49",
   "metadata": {},
   "outputs": [],
   "source": []
  }
 ],
 "metadata": {
  "kernelspec": {
   "display_name": "crossencoder",
   "language": "python",
   "name": "python3"
  },
  "language_info": {
   "codemirror_mode": {
    "name": "ipython",
    "version": 3
   },
   "file_extension": ".py",
   "mimetype": "text/x-python",
   "name": "python",
   "nbconvert_exporter": "python",
   "pygments_lexer": "ipython3",
   "version": "3.10.16"
  }
 },
 "nbformat": 4,
 "nbformat_minor": 5
}
