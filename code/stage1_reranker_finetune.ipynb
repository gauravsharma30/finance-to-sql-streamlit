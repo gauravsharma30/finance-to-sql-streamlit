{
 "cells": [
  {
   "cell_type": "code",
   "execution_count": 6,
   "id": "b489a65a",
   "metadata": {},
   "outputs": [],
   "source": [
    "from sentence_transformers import CrossEncoder, InputExample\n",
    "from torch.utils.data import DataLoader\n",
    "import pandas as pd\n",
    "import torch\n",
    "\n",
    "# 1. Load your data\n",
    "df = pd.read_csv(\"../data/4c_stage1_reranker_4b_withsimple_data.csv\")"
   ]
  },
  {
   "cell_type": "code",
   "execution_count": 7,
   "id": "0f54b449",
   "metadata": {},
   "outputs": [],
   "source": [
    "# 2. Convert to sentence-transformers InputExample format\n",
    "train_samples = [\n",
    "    InputExample(texts=[row['query'], row['label']], label=float(row['score']))\n",
    "    for _, row in df.iterrows()\n",
    "]"
   ]
  },
  {
   "cell_type": "code",
   "execution_count": 8,
   "id": "0291fb02",
   "metadata": {},
   "outputs": [],
   "source": [
    "# 3. Initialize CrossEncoder model\n",
    "model = CrossEncoder(\"cross-encoder/ms-marco-MiniLM-L-6-v2\", num_labels=1)"
   ]
  },
  {
   "cell_type": "code",
   "execution_count": 9,
   "id": "ea23b3a8",
   "metadata": {},
   "outputs": [
    {
     "name": "stdout",
     "output_type": "stream",
     "text": [
      "{'loss': 0.1768, 'grad_norm': 1.93841552734375, 'learning_rate': 6.04895104895105e-06, 'epoch': 5.882352941176471}\n",
      "{'train_runtime': 73.117, 'train_samples_per_second': 148.474, 'train_steps_per_second': 9.3, 'train_loss': 0.13067659135250484, 'epoch': 8.0}\n"
     ]
    }
   ],
   "source": [
    "# 4. Define callback to print loss every step\n",
    "def print_loss(score, step):\n",
    "    print(f\"Step {step} - Loss: {score:.4f}\")\n",
    "\n",
    "# 5. Train the model (fit handles batching, loss, optimizer, etc.)\n",
    "model.fit(\n",
    "    train_dataloader=DataLoader(train_samples, shuffle=True, batch_size=16),\n",
    "    epochs=8,\n",
    "    warmup_steps=100,\n",
    "    show_progress_bar=False,\n",
    "    callback=print_loss\n",
    ")"
   ]
  },
  {
   "cell_type": "code",
   "execution_count": 10,
   "id": "ea6ae384",
   "metadata": {},
   "outputs": [],
   "source": [
    "model.save('../models/stage1_cross_encoder_finetuned_MiniLM_noisyhardnegative_v4_withcleandata')"
   ]
  },
  {
   "cell_type": "code",
   "execution_count": null,
   "id": "ddfbce49",
   "metadata": {},
   "outputs": [],
   "source": []
  }
 ],
 "metadata": {
  "kernelspec": {
   "display_name": "crossencoder",
   "language": "python",
   "name": "python3"
  },
  "language_info": {
   "codemirror_mode": {
    "name": "ipython",
    "version": 3
   },
   "file_extension": ".py",
   "mimetype": "text/x-python",
   "name": "python",
   "nbconvert_exporter": "python",
   "pygments_lexer": "ipython3",
   "version": "3.10.16"
  }
 },
 "nbformat": 4,
 "nbformat_minor": 5
}
